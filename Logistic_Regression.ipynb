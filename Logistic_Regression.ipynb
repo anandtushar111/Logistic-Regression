{
  "nbformat": 4,
  "nbformat_minor": 0,
  "metadata": {
    "colab": {
      "name": "Logistic Regression.ipynb",
      "version": "0.3.2",
      "provenance": [],
      "include_colab_link": true
    },
    "kernelspec": {
      "name": "python3",
      "display_name": "Python 3"
    }
  },
  "cells": [
    {
      "cell_type": "markdown",
      "metadata": {
        "id": "view-in-github",
        "colab_type": "text"
      },
      "source": [
        "<a href=\"https://colab.research.google.com/github/anandtushar111/Logistic-Regression/blob/master/Logistic_Regression.ipynb\" target=\"_parent\"><img src=\"https://colab.research.google.com/assets/colab-badge.svg\" alt=\"Open In Colab\"/></a>"
      ]
    },
    {
      "cell_type": "code",
      "metadata": {
        "id": "bOPvB8eovJfe",
        "colab_type": "code",
        "colab": {}
      },
      "source": [
        "def hypothesis(x,w,b):\n",
        "  ''' accepts input vector x, input weight vector w and bias b'''\n",
        "  \n",
        "  h = np.dot(x,w) + b\n",
        "  return sigmoid(h)\n",
        "\n",
        "def sigmoid(z):\n",
        "  return 1.0/(1.0 + np.exp(-1.0*z))\n",
        "\n",
        "def error(y_true, x,w,b):\n",
        "  m = x.shape[0]\n",
        "  err =0.0\n",
        "  \n",
        "  for i in range(m):\n",
        "    hx = hypothesis(x[i],w,b)\n",
        "    err += y_true[i]*np.log2(hx) + (1.0 - y_true[i])*np.log2(1-hx)\n",
        "    \n",
        "  return err/m\n",
        "\n",
        "def get_grads(y_true,x,w,b):\n",
        "  grad_w = np.zeros(w.shape)\n",
        "  grad_b = 0.0\n",
        "  \n",
        "  m = x.shape[0]\n",
        "  \n",
        "  for i in range(m):\n",
        "    hx = hypothesis(x[i],w,b)\n",
        "    grad_w += (y_true[i] - hx)*x[i]\n",
        "    grad_b += (y_true[i] - hx)\n",
        "    \n",
        "  grad_w /= m\n",
        "  grad_b /= m\n",
        "  \n",
        "  return [grad_w, grad_b]\n",
        "\n",
        "\n",
        "#One iteration of gradient descent\n",
        "\n",
        "def grad_descent(x,y_true,w,b,learning_rate=0.1):\n",
        "  err = error(y_true,x,w,b)\n",
        "  [grad_w,grad_b] = get_grads(y_true,x,w,b)\n",
        "  w = w + learning_rate*grad_w\n",
        "  b = b + learning_rate*grad_b\n",
        "  \n",
        "  return err,w,b\n",
        "\n",
        "def predict(x,w,b):\n",
        "  confidence = hypothesis(x,w,b)\n",
        "  if(confidence<0.5):\n",
        "    return 0\n",
        "  else:\n",
        "    return 1\n",
        "  \n",
        "def get_acc(x_tst,y_tst,w,b):\n",
        "  y_pred = []\n",
        "  for i in range(y_tst.shape[0]):\n",
        "    p = predict(x_tst[i],w,b)\n",
        "    y_pred.append(p)\n",
        "    \n",
        "  return float((y_pred==y_test).sum())/y_pred.shape[0]\n",
        "\n",
        "\n",
        "    \n",
        "    "
      ],
      "execution_count": 0,
      "outputs": []
    }
  ]
}